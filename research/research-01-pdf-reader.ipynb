{
 "cells": [
  {
   "cell_type": "markdown",
   "id": "2a9b01c0-1b1e-4b30-9fb1-fe1c0a0358d7",
   "metadata": {},
   "source": [
    "# Research 01: Pdf Reader"
   ]
  },
  {
   "cell_type": "code",
   "execution_count": 13,
   "id": "e0759018-6568-4a48-a76e-4315ceb7679a",
   "metadata": {},
   "outputs": [],
   "source": [
    "import os\n",
    "import pypdf\n",
    "from pathlib import Path"
   ]
  },
  {
   "cell_type": "code",
   "execution_count": 8,
   "id": "c452c885-10dd-4453-ac4e-0714c6ef27ec",
   "metadata": {},
   "outputs": [
    {
     "name": "stdout",
     "output_type": "stream",
     "text": [
      "==========:Pdfs:==========\n",
      "1. Deepak_CV.pdf\n"
     ]
    }
   ],
   "source": [
    "pdfs_dir = Path(\"pdfs/\")\n",
    "\n",
    "pdfs = os.listdir(pdfs_dir)\n",
    "print(f\"==========:Pdfs:==========\")\n",
    "for i, pdf in enumerate(pdfs):\n",
    "    print(f\"{i+1}. {pdf}\")"
   ]
  },
  {
   "cell_type": "code",
   "execution_count": 25,
   "id": "a4fa351c-4eab-4ff6-8bbb-61596ffbaf1f",
   "metadata": {},
   "outputs": [],
   "source": [
    "def extract_content(pdfs_dir:Path) -> list:\n",
    "    pdfs = os.listdir(pdfs_dir)\n",
    "    \n",
    "    text_content = []\n",
    "    try:\n",
    "        for pdf in pdfs:\n",
    "            pdf_path = os.path.join(pdfs_dir, pdf)\n",
    "            reader = pypdf.PdfReader(pdf_path)\n",
    "            text = \"\"\n",
    "            for page in reader.pages:\n",
    "                text += page.extract_text()\n",
    "            text_content.append(text)\n",
    "        return text_content\n",
    "    except Exception as e:\n",
    "        print(e)\n",
    "        return text_content"
   ]
  },
  {
   "cell_type": "code",
   "execution_count": 32,
   "id": "1b1433b6-5ef2-4aa4-9990-f4c8bf9be80c",
   "metadata": {},
   "outputs": [],
   "source": [
    "pdfs_content = extract_content(pdfs_dir=pdfs_dir)"
   ]
  },
  {
   "cell_type": "code",
   "execution_count": 34,
   "id": "c20ba2fd-523f-4339-948a-801f0762439d",
   "metadata": {},
   "outputs": [
    {
     "data": {
      "text/plain": [
       "10"
      ]
     },
     "execution_count": 34,
     "metadata": {},
     "output_type": "execute_result"
    }
   ],
   "source": [
    "len(pdfs_content)"
   ]
  },
  {
   "cell_type": "code",
   "execution_count": null,
   "id": "8ef28951-cbc4-4be1-8347-5b9bbfb09c33",
   "metadata": {},
   "outputs": [],
   "source": []
  }
 ],
 "metadata": {
  "kernelspec": {
   "display_name": "Python 3 (ipykernel)",
   "language": "python",
   "name": "python3"
  },
  "language_info": {
   "codemirror_mode": {
    "name": "ipython",
    "version": 3
   },
   "file_extension": ".py",
   "mimetype": "text/x-python",
   "name": "python",
   "nbconvert_exporter": "python",
   "pygments_lexer": "ipython3",
   "version": "3.12.3"
  }
 },
 "nbformat": 4,
 "nbformat_minor": 5
}
