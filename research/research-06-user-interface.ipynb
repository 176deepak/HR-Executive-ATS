{
 "cells": [
  {
   "cell_type": "markdown",
   "id": "48da5f96-cdb6-42c3-8915-1d8c1965addf",
   "metadata": {},
   "source": [
    "# Research 07: Gradio User Interface"
   ]
  },
  {
   "cell_type": "code",
   "execution_count": 2,
   "id": "7545b8bf-cd4a-41c9-8133-45bc223c2da5",
   "metadata": {},
   "outputs": [],
   "source": [
    "import warnings\n",
    "warnings.filterwarnings('ignore')"
   ]
  },
  {
   "cell_type": "code",
   "execution_count": 3,
   "id": "59cbebe5-a566-466b-b51a-235fbc84b42c",
   "metadata": {},
   "outputs": [],
   "source": [
    "import pandas as pd\n",
    "import gradio as gr"
   ]
  },
  {
   "cell_type": "code",
   "execution_count": 4,
   "id": "7fb8e894-bf15-4a97-8489-56e919adc5d2",
   "metadata": {},
   "outputs": [],
   "source": [
    "def process_inputs(hr, jd, resumes, ats_score):\n",
    "    shortlisted_candidates = pd.DataFrame(columns=[\"Name\", \"Contact\", \"E-mail\", \"ATS Score\", \"Final Thoughts\"])\n",
    "    shortlisted_candidates = shortlisted_candidates._append(\n",
    "        {\n",
    "            \"name\": \"dummy name\",\n",
    "            \"contact\": \"dummy contact\",\n",
    "            \"email\": \"dummy email\",\n",
    "            \"ats_score\": \"dummy ats score\",\n",
    "            \"final_thoughts\": \"dummy final thoughts\"\n",
    "        },\n",
    "        ignore_index=True\n",
    "    )\n",
    "    \n",
    "    return shortlisted_candidates"
   ]
  },
  {
   "cell_type": "code",
   "execution_count": 5,
   "id": "9a43cf1c-b749-472e-90a8-c28919010899",
   "metadata": {},
   "outputs": [],
   "source": [
    "css = \"\"\"\n",
    "#header {\n",
    "    text-align: center;\n",
    "    font-size: 48px !important;\n",
    "    padding-bottom: 50px;\n",
    "}\n",
    "\n",
    "#shortlisted {\n",
    "    text-align: center;\n",
    "    font-size: 48px !important;\n",
    "    padding-top: 50px;\n",
    "}\n",
    "\"\"\""
   ]
  },
  {
   "cell_type": "code",
   "execution_count": 6,
   "id": "6e7ca465-8056-4c6d-b578-a1128e396ee5",
   "metadata": {},
   "outputs": [],
   "source": [
    "with gr.Blocks(css=css) as app:\n",
    "    gr.Markdown(\n",
    "        value=\"# Your Technical/Non-Technical HR Executive\", \n",
    "        elem_id=\"header\"\n",
    "    )\n",
    "    \n",
    "    with gr.Row():\n",
    "        hr = gr.Dropdown(\n",
    "            choices=[\n",
    "                \"Technical HR Executive\", \n",
    "                \"Non-Technical HR Executive\"\n",
    "            ], \n",
    "            label=\"Select HR Executive\", \n",
    "            interactive=True\n",
    "        )\n",
    "    \n",
    "    with gr.Row(variant='panel'):\n",
    "        with gr.Column(scale=3):\n",
    "            jd = gr.Textbox(\n",
    "                placeholder=\"Job Description here...\", \n",
    "                label=\"Job Description\", \n",
    "                elem_id=\"JD\", \n",
    "                lines=20\n",
    "            )\n",
    "        with gr.Column():\n",
    "            resumes = gr.File(\n",
    "                label=\"Resume/CV\", \n",
    "                file_types=[\"file\"], \n",
    "                file_count='multiple', \n",
    "                elem_id=\"resume\", \n",
    "                height=350\n",
    "            )\n",
    "            ats_score = gr.Slider(\n",
    "                label=\"ATS Score\", \n",
    "                elem_id=\"ats\"\n",
    "            )\n",
    "\n",
    "    with gr.Row():\n",
    "        shortlist_btn = gr.Button(\"Shortlist\")\n",
    "    \n",
    "    with gr.Row():\n",
    "        with gr.Column():\n",
    "            gr.Markdown(\"## Shortlisted Candidates\", elem_id=\"shortlisted\")\n",
    "            output = gr.Dataframe(\n",
    "                headers=[\"Name\", \"Contact\", \"E-mail\", \"ATS Score\", \"Final Thoughts\"], wrap=True\n",
    "            )\n",
    "\n",
    "    with gr.Row():\n",
    "        shortlist_btn.click(\n",
    "            process_inputs, \n",
    "            inputs=[hr, jd, resumes, ats_score], \n",
    "            outputs=output\n",
    "        )\n",
    "\n",
    "    with gr.Row():\n",
    "        gr.Markdown(\"## See Demo\")\n",
    "        video_input = gr.Video(value=\"..\\demo.mp4\", autoplay=True)\n",
    "        # video_output = gr.Video(label=\"Playing Video\")"
   ]
  },
  {
   "cell_type": "code",
   "execution_count": 7,
   "id": "1f7ade90-33b7-4cc1-9cfa-9c6352a6d20d",
   "metadata": {},
   "outputs": [
    {
     "name": "stdout",
     "output_type": "stream",
     "text": [
      "Running on local URL:  http://127.0.0.1:7860\n",
      "\n",
      "To create a public link, set `share=True` in `launch()`.\n"
     ]
    },
    {
     "data": {
      "text/html": [
       "<div><iframe src=\"http://127.0.0.1:7860/\" width=\"100%\" height=\"500\" allow=\"autoplay; camera; microphone; clipboard-read; clipboard-write;\" frameborder=\"0\" allowfullscreen></iframe></div>"
      ],
      "text/plain": [
       "<IPython.core.display.HTML object>"
      ]
     },
     "metadata": {},
     "output_type": "display_data"
    }
   ],
   "source": [
    "if __name__ == \"__main__\":\n",
    "    app.launch()"
   ]
  },
  {
   "cell_type": "code",
   "execution_count": null,
   "id": "d1d1f139-40ae-4a88-bd30-74a52b1429ed",
   "metadata": {},
   "outputs": [],
   "source": []
  }
 ],
 "metadata": {
  "kernelspec": {
   "display_name": "Python 3 (ipykernel)",
   "language": "python",
   "name": "python3"
  },
  "language_info": {
   "codemirror_mode": {
    "name": "ipython",
    "version": 3
   },
   "file_extension": ".py",
   "mimetype": "text/x-python",
   "name": "python",
   "nbconvert_exporter": "python",
   "pygments_lexer": "ipython3",
   "version": "3.12.3"
  }
 },
 "nbformat": 4,
 "nbformat_minor": 5
}
