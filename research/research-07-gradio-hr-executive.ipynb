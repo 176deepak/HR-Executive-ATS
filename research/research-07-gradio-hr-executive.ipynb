{
 "cells": [
  {
   "cell_type": "markdown",
   "id": "35352079-4edb-43c1-a56f-aaf81226c440",
   "metadata": {},
   "source": [
    "# Research 06: Gradio HR Executive Interface"
   ]
  },
  {
   "cell_type": "code",
   "execution_count": 9,
   "id": "5427f570-f139-4343-b53f-3af8b37ed7ca",
   "metadata": {},
   "outputs": [],
   "source": [
    "import warnings\n",
    "warnings.filterwarnings('ignore')"
   ]
  },
  {
   "cell_type": "code",
   "execution_count": 10,
   "id": "3df7c4be-e4f1-4115-9f5d-19d3399dad64",
   "metadata": {},
   "outputs": [],
   "source": [
    "import os\n",
    "import sys\n",
    "import json\n",
    "import gradio as gr\n",
    "import pypdfium2 as pdfium\n",
    "from dotenv import load_dotenv\n",
    "from pathlib import Path\n",
    "from PIL import Image\n",
    "import google.generativeai as genai\n",
    "import pandas as pd"
   ]
  },
  {
   "cell_type": "code",
   "execution_count": 3,
   "id": "8e5002f5-6136-4bd6-affe-98a33ecd615f",
   "metadata": {},
   "outputs": [],
   "source": [
    "load_dotenv()\n",
    "\n",
    "GEMINI_API_KEY = os.getenv('GEMINI_API_KEY')"
   ]
  },
  {
   "cell_type": "code",
   "execution_count": 4,
   "id": "b701d888-6e58-4e38-baa0-31c90ab6a6f5",
   "metadata": {},
   "outputs": [],
   "source": [
    "class HR_Executive:\n",
    "    def __init__(self, model_n, instruction, api_key):\n",
    "        genai.configure(api_key=api_key)\n",
    "        self.model = genai.GenerativeModel(\n",
    "            model_n,\n",
    "            generation_config={\"response_mime_type\": \"application/json\"},\n",
    "            system_instruction=instruction, \n",
    "        )\n",
    "        \n",
    "    \n",
    "    def executive(self, inputs:list):\n",
    "        response = self.model.generate_content(inputs)\n",
    "        candidate = json.loads(response.text)\n",
    "        return candidate"
   ]
  },
  {
   "cell_type": "code",
   "execution_count": 5,
   "id": "f0bbd439-dc98-4222-9752-3b57f94560f2",
   "metadata": {},
   "outputs": [],
   "source": [
    "tech_hr_system_instruction = \"\"\"\n",
    "You are an experienced Technical Human Resource Manager. Your task is to review the provided resume/CV against the technical job description. \n",
    "\n",
    "Evaluate the candidate for the job based on the provided resume/CV. And extract the candidate contact details from resume/CV also, so that further HR executive can contact to candidate. Shortlist the candidate based on provided ats score.\n",
    "\n",
    "Your evaluation should include:\n",
    "1. A percentage match between the resume and the job description.\n",
    "2. Candidate details, like Name, contact, email.\n",
    "3. Final thoughts on the candidate's suitability for the position.\n",
    "4. Shortlisted status[True or False]. True, if ats score satisfy the given ats score else False.\n",
    "\n",
    "Give output in below JSON schema only:\n",
    "candidate_evaluation = {\n",
    "    \"details\": {\n",
    "        \"name\": str,\n",
    "        \"contact\": str,\n",
    "        \"email\": str,\n",
    "        \"ats_score\": int,\n",
    "        \"final_thoughts\":str\n",
    "    },\n",
    "    \"shortlist\": boolean\n",
    "}\n",
    "\"\"\"\n",
    "\n",
    "nontech_hr_system_instruction = \"\"\"\n",
    "You are an experienced Non-Technical Human Resource Manager. Your task is to review the provided resume/CV against the Non-Technical job description. \n",
    "\n",
    "Evaluate the candidate for the job based on the provided resume/CV. And extract the candidate contact details from resume/CV also, so that further HR executive can contact to candidate. Shortlist the candidate based on provided ats score.\n",
    "\n",
    "Your evaluation should include:\n",
    "1. A percentage match between the resume and the job description.\n",
    "2. Candidate details, like Name, contact, email.\n",
    "3. Final thoughts on the candidate's suitability for the position.\n",
    "4. Shortlisted status[True or False]. True, if ats score satisfy the given ats score else False.\n",
    "\n",
    "Give output in below JSON schema only:\n",
    "candidate_evaluation = {\n",
    "    \"details\": {\n",
    "        \"name\": str,\n",
    "        \"contact\": str,\n",
    "        \"email\": str,\n",
    "        \"ats_score\": int,\n",
    "        \"final_thoughts\":str\n",
    "    },\n",
    "    \"shortlist\": boolean\n",
    "}\n",
    "\"\"\""
   ]
  },
  {
   "cell_type": "code",
   "execution_count": 6,
   "id": "88c22e1d-e1cf-4f1b-8bdd-6b8c445f76bd",
   "metadata": {},
   "outputs": [],
   "source": [
    "tech_hr = HR_Executive('gemini-1.5-flash', tech_hr_system_instruction, GEMINI_API_KEY)\n",
    "non_tech_hr = HR_Executive('gemini-1.5-flash', nontech_hr_system_instruction, GEMINI_API_KEY)"
   ]
  },
  {
   "cell_type": "code",
   "execution_count": 7,
   "id": "4268d5e1-81e2-4ff4-aa7b-b99c4aaca48b",
   "metadata": {},
   "outputs": [],
   "source": [
    "def pdf_2_images(pdf_path):\n",
    "    pages = pdfium.PdfDocument(pdf_path)\n",
    "\n",
    "    images = []\n",
    "    for i, page in enumerate(pages):\n",
    "        image = page.render(scale=4).to_pil()\n",
    "        images.append(image)\n",
    "    return images"
   ]
  },
  {
   "cell_type": "code",
   "execution_count": 11,
   "id": "de1388a9-0f5b-49fb-b6bd-fd3dce661c95",
   "metadata": {},
   "outputs": [],
   "source": [
    "def process_inputs(hr, jd, resumes, ats_score):\n",
    "    shortlisted_candidates = pd.DataFrame(columns=[\"name\", \"contact\", \"email\", \"ats_score\", \"final_thoughts\"])\n",
    "\n",
    "    prompt = f\"Shortlist the candidate with minimum {ats_score} ats score.\"\n",
    "    resume_imgs = None\n",
    "    for resume in resumes:\n",
    "        resume_imgs = pdf_2_images(resume)\n",
    "    \n",
    "        if hr == \"Technical HR Executive\":\n",
    "            executive_response = tech_hr.executive([jd, *resume_imgs, prompt])\n",
    "            if executive_response.get(\"shortlist\", False):        \n",
    "                shortlisted_candidates = shortlisted_candidates._append(executive_response.get(\"details\"), ignore_index=True)\n",
    "    \n",
    "        if hr == \"Non-Technical HR Executive\":\n",
    "            executive_response = tech_hr.executive([jd, *resume_imgs, prompt])\n",
    "            if executive_response.get(\"shortlist\", False):        \n",
    "                shortlisted_candidates = shortlisted_candidates._append(executive_response.get(\"details\"), ignore_index=True)\n",
    "    \n",
    "    return shortlisted_candidates"
   ]
  },
  {
   "cell_type": "code",
   "execution_count": 12,
   "id": "c60957af-f64a-49fa-a9ec-04a9615542b2",
   "metadata": {},
   "outputs": [
    {
     "name": "stdout",
     "output_type": "stream",
     "text": [
      "Running on local URL:  http://127.0.0.1:7865\n",
      "\n",
      "To create a public link, set `share=True` in `launch()`.\n"
     ]
    },
    {
     "data": {
      "text/html": [
       "<div><iframe src=\"http://127.0.0.1:7865/\" width=\"100%\" height=\"500\" allow=\"autoplay; camera; microphone; clipboard-read; clipboard-write;\" frameborder=\"0\" allowfullscreen></iframe></div>"
      ],
      "text/plain": [
       "<IPython.core.display.HTML object>"
      ]
     },
     "metadata": {},
     "output_type": "display_data"
    },
    {
     "data": {
      "text/plain": []
     },
     "execution_count": 12,
     "metadata": {},
     "output_type": "execute_result"
    }
   ],
   "source": [
    "with gr.Blocks() as app:\n",
    "    gr.Markdown(\"# Your Technical/Non-Technical HR Executive\")\n",
    "    hr = gr.Dropdown(choices=[\"Technical HR Executive\", \"Non-Technical HR Executive\"], label=\"Select HR Executive\")\n",
    "    with gr.Row():\n",
    "        with gr.Column(scale=3):\n",
    "            jd = gr.Textbox(placeholder=\"Job Description here...\", label=\"Job Description\")\n",
    "        with gr.Column():\n",
    "            resumes = gr.File(label=\"Resume/CV\", file_types=[\"file\"], file_count='multiple')\n",
    "            ats_score = gr.Slider(label=\"ATS Score\")\n",
    "            shortlist_btn = gr.Button(\"Shortlist\")\n",
    "    output = gr.Dataframe(label=\"Shortlisted Candidates\")\n",
    "\n",
    "    shortlist_btn.click(process_inputs, inputs=[hr, jd, resumes, ats_score], outputs=output)\n",
    "app.launch()"
   ]
  },
  {
   "cell_type": "code",
   "execution_count": null,
   "id": "171d611c-fb92-48c0-83f5-f82b537ec0cc",
   "metadata": {},
   "outputs": [],
   "source": []
  }
 ],
 "metadata": {
  "kernelspec": {
   "display_name": "Python 3 (ipykernel)",
   "language": "python",
   "name": "python3"
  },
  "language_info": {
   "codemirror_mode": {
    "name": "ipython",
    "version": 3
   },
   "file_extension": ".py",
   "mimetype": "text/x-python",
   "name": "python",
   "nbconvert_exporter": "python",
   "pygments_lexer": "ipython3",
   "version": "3.12.3"
  }
 },
 "nbformat": 4,
 "nbformat_minor": 5
}
