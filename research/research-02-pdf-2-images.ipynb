{
 "cells": [
  {
   "cell_type": "markdown",
   "id": "9020540d-38da-4307-922c-87ba5672ef38",
   "metadata": {},
   "source": [
    "# Research 02: Pdf 2 Images"
   ]
  },
  {
   "cell_type": "code",
   "execution_count": 1,
   "id": "ff38d8e8-7fb9-4ece-ba73-2b8408d27f33",
   "metadata": {},
   "outputs": [],
   "source": [
    "import os\n",
    "from pathlib import Path\n",
    "import pypdfium2 as pdfium"
   ]
  },
  {
   "cell_type": "code",
   "execution_count": 2,
   "id": "c1e7299f-d7cf-4a95-a859-528574f254d6",
   "metadata": {},
   "outputs": [
    {
     "name": "stdout",
     "output_type": "stream",
     "text": [
      "==========:Pdfs:==========\n",
      "1. Resume1.pdf\n",
      "2. Resume10.pdf\n",
      "3. Resume2.pdf\n",
      "4. Resume3.pdf\n",
      "5. Resume4.pdf\n",
      "6. Resume5.pdf\n",
      "7. Resume6.pdf\n",
      "8. Resume7.pdf\n",
      "9. Resume8.pdf\n",
      "10. Resume9.pdf\n"
     ]
    }
   ],
   "source": [
    "pdfs_dir = Path(\"pdfs/\")\n",
    "\n",
    "pdfs = os.listdir(pdfs_dir)\n",
    "print(f\"==========:Pdfs:==========\")\n",
    "for i, pdf in enumerate(pdfs):\n",
    "    print(f\"{i+1}. {pdf}\")"
   ]
  },
  {
   "cell_type": "code",
   "execution_count": 3,
   "id": "a5929d69-ab7f-4cbd-9e0b-a4e87189dca4",
   "metadata": {},
   "outputs": [],
   "source": [
    "os.makedirs(\"pdf2images\", exist_ok=True)"
   ]
  },
  {
   "cell_type": "code",
   "execution_count": 23,
   "id": "8c5e8f4b-d13c-410e-baf4-918bb4774018",
   "metadata": {},
   "outputs": [],
   "source": [
    "def pdf_2_images(pdf_path:Path, op_path:Path):\n",
    "    dir_ = os.path.split(pdf_path)[-1]\n",
    "    dir_ = dir_.replace(\".pdf\", \"\")\n",
    "    op_path = os.path.join(op_path, dir_)\n",
    "    os.makedirs(op_path, exist_ok=True)\n",
    "    \n",
    "    pages = pdfium.PdfDocument(pdf_path)\n",
    "\n",
    "    for i, page in enumerate(pages):\n",
    "        image = page.render(scale=4).to_pil()\n",
    "        image.save(os.path.join(op_path, f\"image{i}.jpg\"))"
   ]
  },
  {
   "cell_type": "code",
   "execution_count": 25,
   "id": "d8947996-3aa1-40cf-89f1-ecc3e4c170c2",
   "metadata": {},
   "outputs": [],
   "source": [
    "for pdf in pdfs:\n",
    "    pdf_path = os.path.join(pdfs_dir, pdf)\n",
    "    pdf_2_images(pdf_path, \"pdf2images\")"
   ]
  },
  {
   "cell_type": "code",
   "execution_count": null,
   "id": "9a6d18a2-af5d-452a-bfb3-225150d7f96f",
   "metadata": {},
   "outputs": [],
   "source": []
  }
 ],
 "metadata": {
  "kernelspec": {
   "display_name": "Python 3 (ipykernel)",
   "language": "python",
   "name": "python3"
  },
  "language_info": {
   "codemirror_mode": {
    "name": "ipython",
    "version": 3
   },
   "file_extension": ".py",
   "mimetype": "text/x-python",
   "name": "python",
   "nbconvert_exporter": "python",
   "pygments_lexer": "ipython3",
   "version": "3.12.3"
  }
 },
 "nbformat": 4,
 "nbformat_minor": 5
}
